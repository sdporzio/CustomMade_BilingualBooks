{
 "cells": [
  {
   "cell_type": "code",
   "execution_count": 8,
   "metadata": {
    "collapsed": false,
    "jupyter": {
     "outputs_hidden": false
    }
   },
   "outputs": [],
   "source": [
    "%matplotlib inline\n",
    "### Standard imports\n",
    "import uproot\n",
    "import numpy as np\n",
    "import pandas as pd\n",
    "import matplotlib.pyplot as plt\n",
    "from tqdm.notebook import tqdm\n",
    "\n",
    "### HEPKIT imports\n",
    "import hepkit.hepData as hd\n",
    "import hepkit.hepPlot as hp\n",
    "import hepkit.hepFormat as hf\n",
    "### Settings\n",
    "hf.DefaultSetup()\n",
    "hf.DefaultSetup()\n",
    "\n",
    "def RemoveLines(text):\n",
    "    text = text.replace('\\n\\n\\n\\n\\n\\n\\n','\\n\\n')\n",
    "    text = text.replace('\\n\\n\\n\\n\\n\\n','\\n\\n')\n",
    "    text = text.replace('\\n\\n\\n\\n\\n','\\n\\n')\n",
    "    text = text.replace('\\n\\n\\n\\n','\\n\\n')\n",
    "    text = text.replace('\\n\\n\\n','\\n\\n')\n",
    "    return text"
   ]
  },
  {
   "cell_type": "code",
   "execution_count": null,
   "metadata": {},
   "outputs": [],
   "source": [
    "with open(fout,'w') as fileOut:\n",
    "    fileOut.write(text)"
   ]
  },
  {
   "cell_type": "code",
   "execution_count": 10,
   "metadata": {},
   "outputs": [
    {
     "data": {
      "application/vnd.jupyter.widget-view+json": {
       "model_id": "8736378d2a9646ff9eed0b84cd7045c3",
       "version_major": 2,
       "version_minor": 0
      },
      "text/plain": [
       "HBox(children=(FloatProgress(value=0.0, max=20.0), HTML(value='')))"
      ]
     },
     "metadata": {},
     "output_type": "display_data"
    },
    {
     "name": "stdout",
     "output_type": "stream",
     "text": [
      "\n"
     ]
    }
   ],
   "source": [
    "fin = '/Users/sdporzio/Software/ebook_trans/smierc_krajewski.txt'\n",
    "fout = '/Users/sdporzio/Software/ebook_trans/smierc_krajewski_conv.txt'\n",
    "with open(fin,'rb') as fileIn:\n",
    "    text = fileIn.read()\n",
    "text = text.decode(encoding='utf8')\n",
    "text = RemoveLines(text)\n",
    "\n",
    "\n",
    "pars = text.split('\\n\\n')\n",
    "\n",
    "from googletrans import Translator\n",
    "translator = Translator()\n",
    "\n",
    "cl_number = 5\n",
    "src='pl'\n",
    "dest='en'\n",
    "\n",
    "text_out = ''\n",
    "for p in tqdm(pars[0:20]):\n",
    "    t = translator.translate(p,src=src,dest=dest).text\n",
    "    text_out += p\n",
    "    text_out += '\\n\\n'\n",
    "    text_out += t\n",
    "    text_out += '\\n\\n\\n'\n",
    "  \n",
    "with open(fout,'w') as fileOut:\n",
    "    fileOut.write(text_out)"
   ]
  },
  {
   "cell_type": "code",
   "execution_count": null,
   "metadata": {},
   "outputs": [],
   "source": []
  }
 ],
 "metadata": {
  "kernelspec": {
   "display_name": "Python 3",
   "language": "python",
   "name": "python3"
  },
  "language_info": {
   "codemirror_mode": {
    "name": "ipython",
    "version": 3
   },
   "file_extension": ".py",
   "mimetype": "text/x-python",
   "name": "python",
   "nbconvert_exporter": "python",
   "pygments_lexer": "ipython3",
   "version": "3.7.6"
  }
 },
 "nbformat": 4,
 "nbformat_minor": 4
}
