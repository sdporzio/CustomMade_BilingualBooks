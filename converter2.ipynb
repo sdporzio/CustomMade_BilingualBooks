{
 "cells": [
  {
   "cell_type": "code",
   "execution_count": 1,
   "metadata": {
    "collapsed": false,
    "jupyter": {
     "outputs_hidden": false
    }
   },
   "outputs": [],
   "source": [
    "%matplotlib inline\n",
    "### Standard imports\n",
    "import uproot\n",
    "import numpy as np\n",
    "import pandas as pd\n",
    "import matplotlib.pyplot as plt\n",
    "from tqdm.notebook import tqdm\n",
    "from importlib import reload  \n",
    "\n",
    "### HEPKIT imports\n",
    "import hepkit.hepData as hd\n",
    "import hepkit.hepPlot as hp\n",
    "import hepkit.hepFormat as hf\n",
    "### Settings\n",
    "hf.DefaultSetup()\n",
    "hf.DefaultSetup()\n",
    "\n",
    "# Necessary imports\n",
    "import support as sp\n",
    "from googletrans import Translator\n",
    "import spacy\n",
    "import time"
   ]
  },
  {
   "cell_type": "code",
   "execution_count": 20,
   "metadata": {},
   "outputs": [],
   "source": [
    "# Settings\n",
    "dirIn = '/Users/sdporzio/Software/ebook_trans/input'\n",
    "dirOut = '/Users/sdporzio/Software/ebook_trans/output'\n",
    "filename = 'alquimista'\n",
    "\n",
    "nlp_model = 'pt_core_news_md'\n",
    "src, dest = 'pt', 'en'\n",
    "\n",
    "maxCharacters = 300"
   ]
  },
  {
   "cell_type": "code",
   "execution_count": 21,
   "metadata": {},
   "outputs": [
    {
     "data": {
      "application/vnd.jupyter.widget-view+json": {
       "model_id": "7c01f68d006d4dd18c2f8488728351ea",
       "version_major": 2,
       "version_minor": 0
      },
      "text/plain": [
       "HBox(children=(FloatProgress(value=0.0, max=1289.0), HTML(value='')))"
      ]
     },
     "metadata": {},
     "output_type": "display_data"
    },
    {
     "name": "stdout",
     "output_type": "stream",
     "text": [
      "\n"
     ]
    }
   ],
   "source": [
    "reload(sp)\n",
    "# Load model\n",
    "nlp = spacy.load(nlp_model)\n",
    "# Load google translator\n",
    "translator = Translator()\n",
    "\n",
    "fin = dirIn+'/'+filename+'.txt'\n",
    "fout = dirOut+'/'+filename+'.txt'\n",
    "\n",
    "# Load text\n",
    "with open(fin,'rb') as fileIn:\n",
    "    text = fileIn.read()\n",
    "# Decode it\n",
    "text = text.decode(encoding='utf8')\n",
    "# Remove stupid empty lines and split in paragraphs\n",
    "text = sp.RemoveLines(text)\n",
    "pars = text.split('\\n\\n')\n",
    "# Split long paragraphs in shorter ones\n",
    "new_pars = []\n",
    "for p in tqdm(pars):\n",
    "    shorter_p = sp.RebinPhrases(nlp,p,maxCharacters)\n",
    "    for shp in shorter_p:\n",
    "        if shp!='': new_pars.append(shp)"
   ]
  },
  {
   "cell_type": "code",
   "execution_count": 22,
   "metadata": {},
   "outputs": [
    {
     "data": {
      "application/vnd.jupyter.widget-view+json": {
       "model_id": "4aeee682d510498582b64d6cda01ae1e",
       "version_major": 2,
       "version_minor": 0
      },
      "text/plain": [
       "HBox(children=(FloatProgress(value=0.0), HTML(value='')))"
      ]
     },
     "metadata": {},
     "output_type": "display_data"
    },
    {
     "name": "stdout",
     "output_type": "stream",
     "text": [
      "\n"
     ]
    }
   ],
   "source": [
    "reload(sp)\n",
    "# Compose text with translation\n",
    "out_text = ''\n",
    "lims = sp.GetDivisions(new_pars,15)\n",
    "for lim in tqdm(lims):\n",
    "    start = lim[0]\n",
    "    end = lim[1]\n",
    "    new_block = new_pars[start:end]\n",
    "    new_merged_block = '\\n'.join(new_block)\n",
    "    new_tblock = new_merged_block\n",
    "    attempts = 0\n",
    "    while (new_tblock == new_merged_block and attempts<20) :\n",
    "        new_tblock = translator.translate(new_merged_block,src=src,dest=dest).text\n",
    "        time.sleep(0.2)\n",
    "        attempts+=1\n",
    "    if attempts>=20:\n",
    "        print(\"Gave up at:\")\n",
    "        print(new_merged_block)\n",
    "    split_tblock = new_tblock.split('\\n')\n",
    "    for i in range(len(new_block)):\n",
    "        out_text += new_block[i]\n",
    "        out_text += '\\n\\n'\n",
    "        out_text += split_tblock[i]\n",
    "        out_text += '\\n\\n\\n'\n",
    "        \n",
    "# Save out to text\n",
    "with open(fout,'w') as fileOut:\n",
    "    text = fileOut.write(out_text)\n",
    "    \n",
    "hd.SlackMe(\"Ebook converted.\")"
   ]
  },
  {
   "cell_type": "code",
   "execution_count": null,
   "metadata": {},
   "outputs": [],
   "source": []
  }
 ],
 "metadata": {
  "kernelspec": {
   "display_name": "Python 3",
   "language": "python",
   "name": "python3"
  },
  "language_info": {
   "codemirror_mode": {
    "name": "ipython",
    "version": 3
   },
   "file_extension": ".py",
   "mimetype": "text/x-python",
   "name": "python",
   "nbconvert_exporter": "python",
   "pygments_lexer": "ipython3",
   "version": "3.7.6"
  }
 },
 "nbformat": 4,
 "nbformat_minor": 4
}
