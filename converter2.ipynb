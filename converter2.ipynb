{
 "cells": [
  {
   "cell_type": "markdown",
   "metadata": {},
   "source": [
    "## Download new modules\n",
    "\n",
    "```bash\n",
    "python -m spacy download de_core_news_md\n",
    "```"
   ]
  },
  {
   "cell_type": "code",
   "execution_count": 16,
   "metadata": {
    "collapsed": false,
    "jupyter": {
     "outputs_hidden": false
    }
   },
   "outputs": [],
   "source": [
    "%matplotlib inline\n",
    "### Standard imports\n",
    "import uproot\n",
    "import numpy as np\n",
    "import pandas as pd\n",
    "import matplotlib.pyplot as plt\n",
    "from tqdm.notebook import tqdm\n",
    "from importlib import reload  \n",
    "\n",
    "### HEPKIT imports\n",
    "import hepkit.hepData as hd\n",
    "import hepkit.hepPlot as hp\n",
    "import hepkit.hepFormat as hf\n",
    "### Settings\n",
    "hf.DefaultSetup()\n",
    "hf.DefaultSetup()\n",
    "\n",
    "# Necessary imports\n",
    "import support as sp\n",
    "from googletrans import Translator as T1\n",
    "from translate import Translator as T2\n",
    "from deep_translator import GoogleTranslator as T3\n",
    "import spacy\n",
    "import time"
   ]
  },
  {
   "cell_type": "code",
   "execution_count": 30,
   "metadata": {},
   "outputs": [
    {
     "data": {
      "text/plain": [
       "'In the middle of the journey of our life, I found myself in a dark forest, that the straight path was lost.'"
      ]
     },
     "execution_count": 30,
     "metadata": {},
     "output_type": "execute_result"
    }
   ],
   "source": [
    "### TEST TRANSLATOR\n",
    "# To make sure it's working\n",
    "phrase = \"Nel mezzo del cammin di nostra vita, mi ritrovai per una selva oscura, che la dritta via era smarrita.\"\n",
    "from_lang = 'it'\n",
    "to_lang = 'en'\n",
    "\n",
    "# GOOGLETRANS\n",
    "# translator = T1()\n",
    "# translator.translate(phrase,src=from_lang,dest=to_lang).text\n",
    "\n",
    "## TRANSLATE\n",
    "# providers = ['mymemory','microsoft']\n",
    "# provider = providers[0]\n",
    "# translator = T2(provider=provider,from_lang=from_lang,to_lang=to_lang)\n",
    "# translator.translate(phrase)\n",
    "\n",
    "## DEEP_TRANSLATOR\n",
    "translator = T3(source=from_lang, target=to_lang)\n",
    "translator.translate(phrase)"
   ]
  },
  {
   "cell_type": "code",
   "execution_count": 36,
   "metadata": {},
   "outputs": [],
   "source": [
    "# Settings\n",
    "dirIn = '/Users/sdporzio/Software/EbookTranslation/interm_txt'\n",
    "dirOut = '/Users/sdporzio/Software/EbookTranslation/interm_txt'\n",
    "filename = 'strange'\n",
    "\n",
    "# nlp_model = 'pl_core_news_md'\n",
    "nlp_model = 'de_core_news_md'\n",
    "\n",
    "# src, dest = 'pl', 'en'\n",
    "src, dest = 'de', 'en'\n",
    "# translator = T1()\n",
    "# translator = T2(provider=provider,from_lang=from_lang,to_lang=to_lang)\n",
    "translator = T3(source=src, target=dest)\n",
    "\n",
    "maxCharacters = 300"
   ]
  },
  {
   "cell_type": "code",
   "execution_count": 37,
   "metadata": {},
   "outputs": [
    {
     "data": {
      "application/vnd.jupyter.widget-view+json": {
       "model_id": "3c0b8f369f884eef9d9f7a844566df3e",
       "version_major": 2,
       "version_minor": 0
      },
      "text/plain": [
       "HBox(children=(HTML(value=''), FloatProgress(value=0.0, max=7162.0), HTML(value='')))"
      ]
     },
     "metadata": {},
     "output_type": "display_data"
    },
    {
     "name": "stdout",
     "output_type": "stream",
     "text": [
      "\n"
     ]
    }
   ],
   "source": [
    "reload(sp)\n",
    "# Load model\n",
    "nlp = spacy.load(nlp_model)\n",
    "\n",
    "fin = dirIn+'/'+filename+'.txt'\n",
    "fout = dirOut+'/'+filename+'_bilang.txt'\n",
    "\n",
    "# Load text\n",
    "with open(fin,'rb') as fileIn:\n",
    "    text_or = fileIn.read()\n",
    "# Decode it\n",
    "text = text_or.decode(encoding='utf8')\n",
    "# OPTIONAL: convert tabs to spaces and unencodable /xad's\n",
    "# text = text.replace('\\t',' ')\n",
    "text = text.replace('\\xad','')\n",
    "# Remove stupid empty lines and split in paragraphs\n",
    "text = sp.RemoveLines(text)\n",
    "pars = text.split('\\n\\n')\n",
    "# Split long paragraphs in shorter ones\n",
    "new_pars = []\n",
    "for p in tqdm(pars):\n",
    "    shorter_p = sp.RebinPhrases(nlp,p,maxCharacters)\n",
    "    for shp in shorter_p:\n",
    "        if shp!='': new_pars.append(shp)"
   ]
  },
  {
   "cell_type": "code",
   "execution_count": 39,
   "metadata": {},
   "outputs": [
    {
     "data": {
      "application/vnd.jupyter.widget-view+json": {
       "model_id": "db9f1b34b8e04419a8a198b1ab7cb488",
       "version_major": 2,
       "version_minor": 0
      },
      "text/plain": [
       "HBox(children=(HTML(value=''), FloatProgress(value=0.0, max=776.0), HTML(value='')))"
      ]
     },
     "metadata": {},
     "output_type": "display_data"
    },
    {
     "name": "stdout",
     "output_type": "stream",
     "text": [
      "\n"
     ]
    }
   ],
   "source": [
    "reload(sp)\n",
    "### PARAMETERS\n",
    "# Number of phrases in paragraph to convert\n",
    "nSent = 15\n",
    "# Number of seconds to wait between each translation\n",
    "sleepTime = 0.25\n",
    "\n",
    "\n",
    "# Compose text with translation\n",
    "out_text = ''\n",
    "lims = sp.GetDivisions(new_pars,nSent)\n",
    "for lim in tqdm(lims):\n",
    "    start = lim[0]\n",
    "    end = lim[1]\n",
    "    new_block = new_pars[start:end]\n",
    "    new_merged_block = '\\n'.join(new_block)\n",
    "    new_tblock = new_merged_block\n",
    "    attempts = 0\n",
    "    while (new_tblock == new_merged_block and attempts<20) :\n",
    "#         new_tblock = translator.translate(new_merged_block,src=src,dest=dest).text # T1\n",
    "#         new_tblock = translator.translate(new_merged_block,src=src,dest=dest).text # T2\n",
    "        new_tblock = translator.translate(new_merged_block) # T3\n",
    "        time.sleep(sleepTime)\n",
    "        attempts+=1\n",
    "    if attempts>=20:\n",
    "        print(\"Gave up at:\")\n",
    "        print(new_merged_block)\n",
    "        break\n",
    "    split_tblock = new_tblock.split('\\n')\n",
    "    for i in range(len(new_block)):\n",
    "        out_text += new_block[i]\n",
    "        out_text += '\\n\\n'\n",
    "        out_text += split_tblock[i]\n",
    "        out_text += '\\n\\n\\n'\n",
    "        \n",
    "# Save out to text\n",
    "with open(fout,'w') as fileOut:\n",
    "    text = fileOut.write(out_text)\n",
    "    \n",
    "hd.SlackMe(\"Ebook converted.\")"
   ]
  },
  {
   "cell_type": "code",
   "execution_count": null,
   "metadata": {},
   "outputs": [],
   "source": []
  }
 ],
 "metadata": {
  "kernelspec": {
   "display_name": "Python 3",
   "language": "python",
   "name": "python3"
  },
  "language_info": {
   "codemirror_mode": {
    "name": "ipython",
    "version": 3
   },
   "file_extension": ".py",
   "mimetype": "text/x-python",
   "name": "python",
   "nbconvert_exporter": "python",
   "pygments_lexer": "ipython3",
   "version": "3.7.8"
  }
 },
 "nbformat": 4,
 "nbformat_minor": 4
}
